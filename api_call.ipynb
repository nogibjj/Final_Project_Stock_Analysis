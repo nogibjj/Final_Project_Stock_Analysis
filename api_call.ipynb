{
 "cells": [
  {
   "cell_type": "code",
   "execution_count": 2,
   "metadata": {},
   "outputs": [],
   "source": [
    "import pandas as pd"
   ]
  },
  {
   "cell_type": "code",
   "execution_count": 9,
   "metadata": {},
   "outputs": [],
   "source": [
    "#finnhub_client = finnhub.Client(api_key=\"clla0nhr01qhqdq2t4e0clla0nhr01qhqdq2t4eg\")"
   ]
  },
  {
   "cell_type": "code",
   "execution_count": 10,
   "metadata": {},
   "outputs": [],
   "source": [
    "#res = finnhub_client.quote('AAPL')"
   ]
  },
  {
   "cell_type": "code",
   "execution_count": 11,
   "metadata": {},
   "outputs": [],
   "source": [
    "#data = pd.DataFrame(res,index=[0])"
   ]
  },
  {
   "cell_type": "code",
   "execution_count": 12,
   "metadata": {},
   "outputs": [],
   "source": [
    "# XYQ23XWUY5IE1MYY. API KEY FOR Alpha Vantage"
   ]
  },
  {
   "cell_type": "code",
   "execution_count": 2,
   "metadata": {},
   "outputs": [],
   "source": [
    "symbols = pd.read_csv('data/top_companies.csv')\n",
    "symbols = symbols.sort_values(by=['Market Cap'], ascending=False).head(56)\n",
    "symbols = symbols['Symbol'].tolist()"
   ]
  },
  {
   "cell_type": "code",
   "execution_count": 3,
   "metadata": {},
   "outputs": [],
   "source": [
    "appended_data = []\n",
    "for i in symbols:\n",
    "    url = \"https://www.alphavantage.co/query?function=TIME_SERIES_DAILY&symbol=\" + i + \"&apikey=A5G6U4N5N9ZS95F6&datatype=csv\"\n",
    "    data = pd.read_csv(url)\n",
    "    data['Symbol']  = i\n",
    "    appended_data.append(data)\n",
    "\n",
    "appended_data = pd.concat(appended_data)"
   ]
  },
  {
   "cell_type": "code",
   "execution_count": 4,
   "metadata": {},
   "outputs": [],
   "source": [
    "historic_100days = pd.read_csv('100days_Data.csv')"
   ]
  },
  {
   "cell_type": "code",
   "execution_count": 6,
   "metadata": {},
   "outputs": [],
   "source": [
    "historic_100days = historic_100days[historic_100days['timestamp'].notna()]\n",
    "del historic_100days['{']"
   ]
  },
  {
   "cell_type": "markdown",
   "metadata": {},
   "source": [
    "#### companies we got data = 23"
   ]
  },
  {
   "cell_type": "code",
   "execution_count": 9,
   "metadata": {},
   "outputs": [
    {
     "data": {
      "text/plain": [
       "Symbol\n",
       "AAPL     100\n",
       "WMT      100\n",
       "CVX      100\n",
       "ADBE     100\n",
       "HD       100\n",
       "ORCL     100\n",
       "PG       100\n",
       "JNJ      100\n",
       "AVGO     100\n",
       "MA       100\n",
       "XOM      100\n",
       "JPM      100\n",
       "MSFT     100\n",
       "V        100\n",
       "UNH      100\n",
       "LLY      100\n",
       "TSLA     100\n",
       "META     100\n",
       "NVDA     100\n",
       "AMZN     100\n",
       "GOOGL    100\n",
       "GOOG     100\n",
       "COST     100\n",
       "Name: count, dtype: int64"
      ]
     },
     "execution_count": 9,
     "metadata": {},
     "output_type": "execute_result"
    }
   ],
   "source": [
    "historic_100days['Symbol'].value_counts()"
   ]
  },
  {
   "cell_type": "markdown",
   "metadata": {},
   "source": [
    "### todo - make another api call to get rest of the data"
   ]
  },
  {
   "cell_type": "markdown",
   "metadata": {},
   "source": [
    "### merge data with comapny info"
   ]
  },
  {
   "cell_type": "code",
   "execution_count": 11,
   "metadata": {},
   "outputs": [],
   "source": [
    "symbols = pd.read_csv('data/top_companies.csv')\n",
    "symbols = symbols.sort_values(by=['Market Cap'], ascending=False).head(56)\n",
    "merge_data = pd.merge(historic_100days,symbols, on='Symbol', how='left')"
   ]
  },
  {
   "cell_type": "code",
   "execution_count": 1,
   "metadata": {},
   "outputs": [
    {
     "ename": "NameError",
     "evalue": "name 'merge_data' is not defined",
     "output_type": "error",
     "traceback": [
      "\u001b[0;31m---------------------------------------------------------------------------\u001b[0m",
      "\u001b[0;31mNameError\u001b[0m                                 Traceback (most recent call last)",
      "\u001b[1;32m/workspaces/Final_Project_Stock_Analysis/api_call.ipynb Cell 15\u001b[0m line \u001b[0;36m1\n\u001b[0;32m----> <a href='vscode-notebook-cell://codespaces%2Blegendary-chainsaw-g4q6g7wj9rwgfj7g/workspaces/Final_Project_Stock_Analysis/api_call.ipynb#X20sdnNjb2RlLXJlbW90ZQ%3D%3D?line=0'>1</a>\u001b[0m merge_data\u001b[39m.\u001b[39mto_csv(\u001b[39m'\u001b[39m\u001b[39mFinal_Merge.csv\u001b[39m\u001b[39m'\u001b[39m,index\u001b[39m=\u001b[39m\u001b[39mFalse\u001b[39;00m)\n",
      "\u001b[0;31mNameError\u001b[0m: name 'merge_data' is not defined"
     ]
    }
   ],
   "source": [
    "merge_data.to_csv('Final_Merge.csv',index=False)"
   ]
  },
  {
   "cell_type": "code",
   "execution_count": 3,
   "metadata": {},
   "outputs": [],
   "source": [
    "stock_data = pd.read_csv('Final_Merge.csv')"
   ]
  }
 ],
 "metadata": {
  "kernelspec": {
   "display_name": "Python 3",
   "language": "python",
   "name": "python3"
  },
  "language_info": {
   "codemirror_mode": {
    "name": "ipython",
    "version": 3
   },
   "file_extension": ".py",
   "mimetype": "text/x-python",
   "name": "python",
   "nbconvert_exporter": "python",
   "pygments_lexer": "ipython3",
   "version": "3.10.12"
  }
 },
 "nbformat": 4,
 "nbformat_minor": 2
}
