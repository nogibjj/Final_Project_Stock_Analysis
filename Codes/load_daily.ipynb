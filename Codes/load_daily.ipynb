{
 "cells": [
  {
   "cell_type": "code",
   "execution_count": null,
   "metadata": {},
   "outputs": [],
   "source": [
    "#importing required libraries\n",
    "import pandas as pd\n"
   ]
  },
  {
   "cell_type": "code",
   "execution_count": null,
   "metadata": {},
   "outputs": [],
   "source": [
    "#Load List of Tickrs\n",
    "tickers = pd.read_csv('../data/Tickers.csv')"
   ]
  },
  {
   "cell_type": "code",
   "execution_count": null,
   "metadata": {},
   "outputs": [],
   "source": [
    "#list to save intermediate data\n",
    "df_list = []"
   ]
  },
  {
   "cell_type": "code",
   "execution_count": null,
   "metadata": {},
   "outputs": [],
   "source": [
    "for i in tickers['Ticker']:\n",
    "    try:\n",
    "        query = \"https://www.alphavantage.co/query?function=TIME_SERIES_DAILY&symbol=\"+i+\"&apikey=B434MFNHO276GM45&datatype=csv\"\n",
    "    \n",
    "        #Load the data from the API\n",
    "        df = pd.read_csv(query)\n",
    "    \n",
    "        #Adding column for ticker\n",
    "        df['Ticker'] = i\n",
    "\n",
    "        #Adding the data to the list\n",
    "        df_list.append(df)\n",
    "    except:\n",
    "        print(f\"Error occoured for {i}\")\n",
    "        break\n",
    "print(\"Data Loaded\")"
   ]
  },
  {
   "cell_type": "code",
   "execution_count": null,
   "metadata": {},
   "outputs": [],
   "source": [
    "df = pd.concat(df_list)"
   ]
  },
  {
   "cell_type": "code",
   "execution_count": null,
   "metadata": {},
   "outputs": [],
   "source": [
    "# reaaraning columns\n",
    "df = df[\n",
    "    [\n",
    "        \"Ticker\",\n",
    "        \"timestamp\",\n",
    "        \"open\",\n",
    "        \"high\",\n",
    "        \"low\",\n",
    "        \"close\",\n",
    "        \"volume\",\n",
    "    ]\n",
    "]"
   ]
  },
  {
   "cell_type": "code",
   "execution_count": null,
   "metadata": {},
   "outputs": [],
   "source": [
    "# converting timestamp to datetime\n",
    "df[\"timestamp\"] = pd.to_datetime(df[\"timestamp\"])"
   ]
  },
  {
   "cell_type": "code",
   "execution_count": null,
   "metadata": {},
   "outputs": [],
   "source": [
    "# sort by ticker and timestamp\n",
    "df.sort_values(by=[\"Ticker\", \"timestamp\"], inplace=True)"
   ]
  },
  {
   "cell_type": "code",
   "execution_count": null,
   "metadata": {},
   "outputs": [],
   "source": [
    "# checking Date range\n",
    "df[\"timestamp\"].min(), df[\"timestamp\"].max()"
   ]
  }
 ],
 "metadata": {
  "kernelspec": {
   "display_name": "Python 3",
   "language": "python",
   "name": "python3"
  },
  "language_info": {
   "codemirror_mode": {
    "name": "ipython",
    "version": 3
   },
   "file_extension": ".py",
   "mimetype": "text/x-python",
   "name": "python",
   "nbconvert_exporter": "python",
   "pygments_lexer": "ipython3",
   "version": "3.10.12"
  }
 },
 "nbformat": 4,
 "nbformat_minor": 2
}
